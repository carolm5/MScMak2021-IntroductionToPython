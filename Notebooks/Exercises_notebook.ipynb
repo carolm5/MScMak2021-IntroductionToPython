{
 "cells": [
  {
   "cell_type": "markdown",
   "metadata": {},
   "source": [
    "<small><small><i>\n",
    "Introduction to Python for Bioinformatics - available at https://github.com/GunzIvan28/MScMak2021-IntroductionToPython.\n",
    "</i></small></small>"
   ]
  },
  {
   "cell_type": "markdown",
   "metadata": {},
   "source": [
    "# Strings"
   ]
  },
  {
   "cell_type": "markdown",
   "metadata": {},
   "source": [
    "## Exercise 1\n",
    "1. Given trna='AAGGGCTTAGCTTAATTAAAGTGGCTGATTTGCGTTCAGTTGATGCAGAGTGGGGTTTTGCAGTCCTTA', Calculate the % GC and % AT content in the trna sequence   \n",
    "- A_count=trna.count('A')   \n",
    "- C_count=trna.count('C')   \n",
    "- G_count=trna.count('G')   \n",
    "- T_count=trna.count('T')"
   ]
  },
  {
   "cell_type": "code",
   "execution_count": null,
   "metadata": {},
   "outputs": [],
   "source": []
  },
  {
   "cell_type": "markdown",
   "metadata": {},
   "source": [
    "## Exercise 2\n",
    "1. Given the following amino acid sequence (MNKMDLVADVAEKTDLSKAKATEVIDAVFA), find the first, last and the 5th amino acids in the sequence. \n",
    "2. The above amino acid is a bacterial restriction enzyme that recognizes \"TCCGGA\". Find the first restriction site in the following sequence: AAAAATCCCGAGGCGGCTATATAGGGCTCCGGAGGCGTAATATAAAA"
   ]
  },
  {
   "cell_type": "markdown",
   "metadata": {},
   "source": [
    "## Exercise 3\n",
    "Given the DNA sequence CGCCTAAATAGCCTCGCGGAGCCTTATGTCATACTCGTCCT find the k-mer(3-mer) with the highest frequency"
   ]
  },
  {
   "cell_type": "code",
   "execution_count": null,
   "metadata": {},
   "outputs": [],
   "source": [
    "dna_seq = 'CGCCTAAATAGCCTCGCGGAGCCTTATGTCATACTCGTCCT'\n",
    "step = 0\n",
    "dna_seq_list = []\n",
    "while step <= len(dna_seq)-3:\n",
    "    dna_seq_list.append(dna_seq[step:step+3])\n",
    "    step = step + 1\n",
    "dna_seq_dict = {}\n",
    "for dna in dna_seq_list:\n",
    "    dna_seq_dict[dna]=dna_seq_list.count(dna)\n",
    "print(dna_seq_dict)\n",
    "kmer = max(dna_seq_dict, key = dna_seq_dict.get)  \n",
    "print(\"The kmer of the highest frequency is: %s\"%kmer)"
   ]
  },
  {
   "cell_type": "code",
   "execution_count": null,
   "metadata": {},
   "outputs": [],
   "source": [
    "dna_seq = 'CGCCTAAATAGCCTCGCGGAGCCTTATGTCATACTCGTCCT'\n",
    "kmer = 3\n",
    "lst_kmer = {}\n",
    "for i in range(len(dna_seq)-kmer+1):\n",
    "    mer = dna_seq[i:(kmer+i)]\n",
    "    lst_kmer[mer] = lst_kmer.get(mer, 0)+1\n",
    "mers=[i for i in lst_kmer.keys() if lst_kmer[i]== max(lst_kmer.values())]\n",
    "print(f\"{mers}, are the kmer with highest frequencies: {max(lst_kmer.values())}\")"
   ]
  },
  {
   "cell_type": "markdown",
   "metadata": {},
   "source": [
    "# While Loops, for loops, if-else-if, break, functions"
   ]
  },
  {
   "cell_type": "markdown",
   "metadata": {},
   "source": [
    "## Exercise 4\n",
    "\n",
    "1. Create a while loop that starts with x = 0 and increments x until x is equal to 5. Each iteration should print to the console.\n",
    "2. Repeat the previous problem, but the loop will skip printing x = 5 to the console but will print values of x from 6 to 10.\n",
    "3. Create a for loop that prints values from 4 to 10 to the console."
   ]
  },
  {
   "cell_type": "code",
   "execution_count": null,
   "metadata": {},
   "outputs": [],
   "source": []
  },
  {
   "cell_type": "markdown",
   "metadata": {},
   "source": [
    " ## Exercise 5\n",
    " \n",
    " Write a function `areatriangle(b,h)` to compute the area of a triangle: formula is `area = .5*b*h`. Output should look like: \n",
    " \n",
    " `The area of a triangle of base 3 and height 5 is 7.5`"
   ]
  },
  {
   "cell_type": "code",
   "execution_count": null,
   "metadata": {},
   "outputs": [],
   "source": [
    "def areatriangle(b,h):\n",
    "    \"\"\" Computes the area of a triangle of the given base and height \"\"\"\n",
    "    area = .5*b*h\n",
    "#     base = 3\n",
    "#     height = 5\n",
    "    print(\"The area of a triangle of base\",b,\"and height\",h,\"is:\", area)\n",
    "areatriangle(3,5)\n",
    "areatriangle(2,20)"
   ]
  },
  {
   "cell_type": "markdown",
   "metadata": {},
   "source": [
    "## Exercise 6\n",
    "Write a function `celsius_to_fahrenheit(temp)` to convert Celsius to Fahrentheit temperature. The formula is `(9/5) times temp plus 32`. Print the output in the form: \n",
    " \n",
    "`The Celsius temperature 50.0 is equivalent to 122.0 degrees Fahrenheit.`"
   ]
  },
  {
   "cell_type": "code",
   "execution_count": null,
   "metadata": {},
   "outputs": [],
   "source": [
    "def celsius_fahrenheit(temp):\n",
    "    \"\"\" Converts Celsius temperature to Fahrenheit. \n",
    "        Formula is 9/5 times temp plus 32 \"\"\"\n",
    "    # Note that this line is not executed\n",
    "    # end='' keeps print from starting a new line.\n",
    "#     temp_fah = input(\"please enter celcius temperature: \")\n",
    "    newTemp = 9/5*(int(temp))+32\n",
    "    print(\"The Celsius temperature\",temp,\"is equivalent to\",newTemp,end='')\n",
    "    print(\" degrees Celsius\")\n",
    "celsius_fahrenheit(50)\n",
    "celsius_fahrenheit(100)\n",
    "celsius_fahrenheit(0)"
   ]
  },
  {
   "cell_type": "code",
   "execution_count": null,
   "metadata": {},
   "outputs": [],
   "source": [
    "def fahrenheit_to_celsius2():\n",
    "    \"\"\" IMPROVED. Does some checking of input before using it.\n",
    "    Input from keyboard, which is always a string and must often be\n",
    "    converted to an int or float. \n",
    "    Converts Fahrenheit temp to Celsius.\n",
    "    Uses 'if' to make sure an entry was made.\n",
    "    \"\"\"\n",
    "    \n",
    "    temp_str = input(\"Enter a Fahrenheit temperature: \")\n",
    "    if temp_str:\n",
    "        temp = int(temp_str)\n",
    "        newTemp = 5*(temp-32)/9\n",
    "        print(\"The Fahrenheit temperature\",temp,\"is equivalent to \",end='')\n",
    "        print(newTemp,\"degrees Celsius\")"
   ]
  },
  {
   "cell_type": "code",
   "execution_count": null,
   "metadata": {},
   "outputs": [],
   "source": [
    "def fahrenheit_to_celsius3():\n",
    "    \"\"\" MORE IMPROVED. Does even more checking of input before using it. \n",
    "    Input from keyboard, which is always a string and must often be\n",
    "    converted to an int or float. \n",
    "    Converts Fahrenheit temp to Celsius.\n",
    "    Uses if to check whether input is a number and then uses .isdigit() method \n",
    "    of strings to check whether input is made of of digits. \n",
    "    \"\"\"\n",
    "        \n",
    "    temp_str = input(\"Enter a Fahrentheit temperature: \")\n",
    "    if temp_str:\n",
    "        if temp_str.isdigit():  \n",
    "            temp = int(temp_str)\n",
    "            newTemp = 5*(temp-32)/9\n",
    "            print(\"The Fahrenheit temperature\",temp,\"is equivalent to \",end='')\n",
    "            print(newTemp,\"degrees Celsius\")\n",
    "        else:\n",
    "            print(\"You must enter a number. Bye\")"
   ]
  },
  {
   "cell_type": "markdown",
   "metadata": {},
   "source": [
    "## Exercise 7\n",
    "Create a function that prompts the user for their first and last name. The function written should include the city and state.\n",
    "That is, ask two more questions to get the city and the state you live in. Print where you are from on a new line. Put the customary comma between\n",
    "city and state. Your run should look like the following: \n",
    "\n",
    "\n",
    "```  \n",
    "Enter your first name: Ivan\n",
    "Enter your last name: Lloyd\n",
    "Enter the city you live in: Kampala\n",
    "Enter the state you live in: Central\n",
    "\n",
    "Your name is: Ivan Lloyd\n",
    "You live in:  Kampala, Central\n"
   ]
  },
  {
   "cell_type": "code",
   "execution_count": null,
   "metadata": {},
   "outputs": [],
   "source": [
    "def name():\n",
    "    \"\"\" Input first and last name, combine to one string and print \n",
    "        Also, input the city and state and print.\"\"\"\n",
    "    fname = input(\"Enter your first name: \")\n",
    "    lname = input(\"Enter your last name: \")\n",
    "    fullname = fname + \" \" + lname\n",
    "    city = input('Enter your city name: ')\n",
    "    state = input('Enter your state name: ')\n",
    "    location = city + \",\" + state\n",
    "    print(\"Your name is:\",fullname,'\\n',\"and you hail from:\",location)\n",
    "name()"
   ]
  },
  {
   "cell_type": "markdown",
   "metadata": {},
   "source": [
    "## Exercise 8\n",
    "Write a function `count_down()` that starts at 10 and counts down to rocket launch. It's output should be:  \n",
    "`10 9 8 7 6 5 4 3 2 1 BLASTOFF!`  \n",
    "\n",
    "You can make all the numbers on the same line or different lines. Use a while loop."
   ]
  },
  {
   "cell_type": "code",
   "execution_count": null,
   "metadata": {},
   "outputs": [],
   "source": [
    "def count_down():\n",
    "    ct = 10\n",
    "    while ct > 0:\n",
    "        print(ct, end=\" \")\n",
    "        ct = ct - 1\n",
    "    print()\n",
    "    print(\"BLASTOFF!\")\n",
    "count_down()"
   ]
  },
  {
   "cell_type": "code",
   "execution_count": null,
   "metadata": {},
   "outputs": [],
   "source": [
    "from time import sleep\n",
    "def count_down():\n",
    "    ct = 10\n",
    "    while ct > 0:\n",
    "        print(ct, end=\" \")\n",
    "        sleep(1)\n",
    "        ct = ct - 1\n",
    "    print()\n",
    "    print(\"BLASTOFF!\")\n",
    "count_down()"
   ]
  },
  {
   "cell_type": "code",
   "execution_count": null,
   "metadata": {},
   "outputs": [],
   "source": [
    "def count_down():\n",
    "    ct = 10\n",
    "    while ct > -1:\n",
    "        if ct == 0:\n",
    "            print(\"BLASTOFF!\")\n",
    "            ct = ct-1\n",
    "        else:\n",
    "            print(ct, end=\" \")\n",
    "            ct = ct -1\n",
    "count_down()"
   ]
  },
  {
   "cell_type": "code",
   "execution_count": null,
   "metadata": {},
   "outputs": [],
   "source": [
    "def count_down():\n",
    "    ct = 10\n",
    "    while ct >= 1:\n",
    "        print(ct, end=\" \")\n",
    "        ct-=1\n",
    "        if ct < 1:\n",
    "            print(\"BLASTOFF!\")\n",
    "count_down()"
   ]
  },
  {
   "cell_type": "markdown",
   "metadata": {},
   "source": [
    "## Exercise 9\n",
    "Write a function `sum_prod(x,y)` that prints the sum and product of the numbers x and y on separate lines, the sum printing first."
   ]
  },
  {
   "cell_type": "code",
   "execution_count": null,
   "metadata": {},
   "outputs": [],
   "source": [
    "def sum_prod(x,y):\n",
    "    sum_ = x + y\n",
    "    product = x*y\n",
    "    print(sum_)\n",
    "    print(product)\n",
    "#     print(\"Sum of\", x, \"and\", y, \"is:\",sum_)\n",
    "#     print(\"Product of\", x, \"and\", y, \"is:\",product)\n",
    "sum_prod(3,5)"
   ]
  },
  {
   "cell_type": "markdown",
   "metadata": {},
   "source": [
    "## Exercise 10\n",
    "Write a function `steps(n)` that adds up the numbers 1 through n and prints out the result. You should use either a `'while'` loop or a `'for'` loop. Be sure that you check your answer on several numbers n.  Be careful that your loop steps through all the numbers from 1 through and including n.\n"
   ]
  },
  {
   "cell_type": "code",
   "execution_count": null,
   "metadata": {},
   "outputs": [],
   "source": [
    "def steps(n):\n",
    "    my_sum = 0\n",
    "    for n in range(1, n+1):\n",
    "        my_sum += n\n",
    "        my_sum = my_sum + n\n",
    "    print(my_sum)\n",
    "\n",
    "steps(6)"
   ]
  },
  {
   "cell_type": "markdown",
   "metadata": {},
   "source": [
    "## Exercise 11\n",
    "Write a function `conv(miles)` to convert miles to feet. There are 5280 feet in each mile. Make the print out a statement as follows:  \n",
    "`There are 10560 feet in 2 miles.`  Except for the numbers, this statement should be exactly as written.\n"
   ]
  },
  {
   "cell_type": "code",
   "execution_count": null,
   "metadata": {},
   "outputs": [],
   "source": [
    "def conv(miles):\n",
    "    x = (miles * 5280)\n",
    "    print(\"There are %d feet in %d miles.\" %(x,miles))\n",
    "\n",
    "conv(2)"
   ]
  },
  {
   "cell_type": "markdown",
   "metadata": {},
   "source": [
    "## Exercise 12\n",
    "Write a function `drinks(age)`. This function should use an `if-elif-else` statement to print out:  \n",
    "\n",
    "`Have a glass of milk.` for anyone under 7;  \n",
    "`Have a coke.` for anyone under 21, and   \n",
    "`Have a martini.` for anyone 21 or older.   \n",
    "\n",
    "Tip: Be careful about the ages 7 (a seven year old is not under 7) and 21. Also be careful to make the phrases exactly as shown.\n",
    "Test the runs (3 of them). Note that the test for the function output will use different numbers:\n",
    "\n",
    "```  \n",
    "drinks(5)\n",
    "Have a glass of milk.\n",
    "\n",
    "drinks(10)\n",
    "Have a coke.\n",
    "\n",
    "drinks(25)\n",
    "Have a martini.\n"
   ]
  },
  {
   "cell_type": "code",
   "execution_count": null,
   "metadata": {},
   "outputs": [],
   "source": [
    "def drinks(age):\n",
    "    if age < 7:\n",
    "        print(\"Have a glass of milk.\")\n",
    "    elif age < 21:\n",
    "        print(\"Have a coke.\")\n",
    "    else:\n",
    "        print(\"Have a glass of martini.\")\n",
    "drinks(5)\n",
    "drinks(10)\n",
    "drinks(25)"
   ]
  },
  {
   "cell_type": "markdown",
   "metadata": {},
   "source": [
    "## Exercise 13\n",
    "Write a function `odd_nums()` that prints the odd numbers from 1 through 100. Make all of these numbers appear on the same line (actually, when the line fills up it will wrap around, but ignore that.). In order to do this, your print statement should have `end=\" \"` in it. For example, `print(name,end=\" \")` will keep the next print statement from starting a new line. Be sure there is a space between these quotes or your numbers will run together. Use a single space as that is what the testing program expects. Use a 'for' loop and the `range()` function.  \n",
    "\n",
    "Things to be careful of that might go wrong: \n",
    "You print too many numbers, you put too much or too little space between them, you print each number on its own line, you print even numbers or all numbers, your first number isn't 1 or your last number isn't 99.  \n",
    "Always check first and last outputs when you write a loop.\n",
    "\n",
    "Test run (I've inserted a newline here to cause wrapping in the editor):\n",
    "\n",
    "```  \n",
    "odd_nums()\n",
    "1 3 5 7 9 11 13 15 17 19 21 23 25 27 29 31 33 35 37 39 41 43 45 47 49 51 53 55 \n",
    "57 59 61 63 65 67 69 71 73 75 77 79 81 83 85 87 89 91 93 95 97 99"
   ]
  },
  {
   "cell_type": "code",
   "execution_count": null,
   "metadata": {},
   "outputs": [],
   "source": [
    "def odd_nums():\n",
    "    count_odd = 1\n",
    "    for count_odd in range(1,100,2):\n",
    "        print(count_odd, end=\" \")\n",
    "\n",
    "odd_nums()\n",
    "\n"
   ]
  },
  {
   "cell_type": "code",
   "execution_count": null,
   "metadata": {},
   "outputs": [],
   "source": [
    "# OR\n",
    "def odd_nums():\n",
    "    s=\"\"\n",
    "    for i in range(1,100,2):\n",
    "        s+=(str(i)+\" \")\n",
    "    print(s[:-1])\n",
    "odd_nums()"
   ]
  },
  {
   "cell_type": "code",
   "execution_count": null,
   "metadata": {},
   "outputs": [],
   "source": [
    "# OR\n",
    "def odd_nums():\n",
    "    c = 0\n",
    "    while c != 100:\n",
    "        c+=1\n",
    "        x = c/2\n",
    "        if (str(x)[-1]!= \"5\"):\n",
    "            pass\n",
    "        else:\n",
    "            print(str(c)+\" \")\n",
    "odd_nums()"
   ]
  },
  {
   "cell_type": "markdown",
   "metadata": {},
   "source": [
    "## Exercise 14\n",
    "Write a function `trapez()` that computes the area of a trapezoid. Here is the formula: `A = (1/2)(b1+b2)h`. In the formula b1 is the length of one of the bases, b2 the other. The height is h and the area is A. Basically, this takes the average of the two bases times the height. For a rectangle b1 = b2, so this reduces to b1*h. This means that you can do a pretty good test of the correctness of your function using a rectangle (that way you can compute the answer in your head). Use input statements to ask for the bases and the height.\n",
    "Convert these input strings to real numbers using `float()`. Print the output nicely EXACTLY like mine below.\n",
    "\n",
    "Tip: Be careful that your output on the test case below is exactly as shown so that the testing function judges your output correctly.  The testing function does not look at your input statements, so you don't have to use my input prompts if you don't want to. However, testing function will enter the three inputs in the order shown. See the other test run below.\n",
    "\n",
    "```  \n",
    "trapez()\n",
    "Enter the length of one of the bases: 3\n",
    "Enter the length of the other base: 4\n",
    "Enter the height: 8\n",
    "The area of a trapezoid with bases 3.0 and 4.0 and height 8.0 is 28.0\n",
    "\n",
    "\n",
    "Another test run. In grading, expect different input numbers to be used.\n",
    "\n",
    "trapez()\n",
    "Enter the length of one of the bases: 10\n",
    "Enter the length of the other base: 11\n",
    "Enter the height: 12\n",
    "The area of a trapezoid with bases 10.0 and 11.0 and height 12.0 is 126.0\n"
   ]
  },
  {
   "cell_type": "code",
   "execution_count": null,
   "metadata": {},
   "outputs": [],
   "source": [
    "def trapez():\n",
    "    b1 =input(\"Enter the length of one of the bases: \")\n",
    "    b2 =input(\"Enter the length of the other base: \")\n",
    "    h =input(\"Enter the height: \")\n",
    "    A = (1/2)*(float(b1)+float(b2))*float(h)\n",
    "    print(\"The area of a trapezoid with bases,\", float(b1), \"and\", float(b2), \"and height\", float(h), \"is\", A)\n",
    "trapez()"
   ]
  },
  {
   "cell_type": "markdown",
   "metadata": {},
   "source": [
    "## Exercise 15\n",
    "Write a function `diner_waitress()` that asks for you order. First start an empty list, call it order. Then use a `while loop and an input()` statement to gather the order. Continue in the while loop until the customer says `that's all`. One way to end the loop is to use `break` to break out of the loop when `that's all` is entered. Recall that you can add to a list by using the list's .append() method; suppose that your list is called order. You are going to have to input one food at a time and append it to the order list. Then print out the order. Here is my run:  \n",
    "```  \n",
    "diner_waitress()\n",
    "\n",
    "Hello, I'll be your waitress. What will you have?\n",
    "\n",
    "menu item: eggs\n",
    "menu item: bacon\n",
    "menu item: toast\n",
    "menu item: jelly\n",
    "menu item: that's all\n",
    "\n",
    "You've ordered:\n",
    "['eggs', 'bacon', 'toast', 'jelly']\n"
   ]
  },
  {
   "cell_type": "code",
   "execution_count": null,
   "metadata": {},
   "outputs": [],
   "source": [
    "menu = ['eggs', 'bacon', 'toast', 'jelly']\n",
    "def diner_waitress():\n",
    "    order = []\n",
    "    # print(input(\"\"\"Hello, I'll be your waitress. What will you have?\"\\n\\nmenu item: eggs\\nmenu item: bacon\\nmenu item: toast\\nmenu item: jelly\\nmenu item: that's all\"\"\"))\n",
    "    \n",
    "    while True:\n",
    "        choice = (input(\"Hello, I'll be your waitress. What will you have?\"))\n",
    "        if choice == \"that's all\":\n",
    "            break\n",
    "        elif choice not in menu:\n",
    "            print(f'{choice} not in the menu, try again!!!')\n",
    "            continue\n",
    "            # choice = (input(\"Hello, I'll be your waitress. What will you have?\")      \n",
    "        order.append(choice)\n",
    "    print(\"You've ordered:\\n\", order)\n",
    "diner_waitress()"
   ]
  },
  {
   "cell_type": "markdown",
   "metadata": {},
   "source": [
    "# Lists, randoms, seeds, floats"
   ]
  },
  {
   "cell_type": "markdown",
   "metadata": {},
   "source": [
    "## Exercise 16\n",
    "Write a function `runner()` that sets a variable lis = list(range(20,30)) and does all of the following, each on a separate line: \n",
    "\n",
    "(a) print the element of lis with the index 3  \n",
    "(b) print lis itself  \n",
    "(c) write a 'for' loop that prints out every element of lis. Recall that len() will give you the length of such a data collection if you need that. Use `end=\" \"` to put one space between the elements of the list lis.  Allow the extra space at the end of the list to stand, don't make a special case of it.\n",
    "    \n",
    "Test run:\n",
    "```  \n",
    "runner()\n",
    "23\n",
    "[20, 21, 22, 23, 24, 25, 26, 27, 28, 29]\n",
    "20 21 22 23 24 25 26 27 28 29 "
   ]
  },
  {
   "cell_type": "code",
   "execution_count": null,
   "metadata": {},
   "outputs": [],
   "source": [
    "def runner():\n",
    "    lis = list(range(20,30))\n",
    "    print(lis[3])\n",
    "    print(lis)\n",
    "#     print(len(lis))\n",
    "    string = \"\"\n",
    "    for i in lis:\n",
    "        string+=(str(i)+\" \")\n",
    "    print(type(string))\n",
    "    for i in lis:\n",
    "        print(i, end =\" \")\n",
    "runner()"
   ]
  },
  {
   "cell_type": "code",
   "execution_count": null,
   "metadata": {},
   "outputs": [],
   "source": [
    "# OR\n",
    "def runner():\n",
    "    lis = list(range(20,30))\n",
    "    print(lis[3])\n",
    "    print(lis)\n",
    "    for i in lis:\n",
    "        print(i, end =\" \")\n",
    "runner()"
   ]
  },
  {
   "cell_type": "markdown",
   "metadata": {},
   "source": [
    "## Exercise 17\n",
    "Let's do a small simulation. Suppose that you rolled a die repeatedly. Each time that you roll the die you get a integer from 1 to 6, the number of pips on the die. Use `random.randint(a,b)` to simulate rolling a die 10 times and printout the 10 outcomes. The function random.`randint(a,b)` will generate an integer (whole number) between the integers a and b inclusive. Remember each outcome is 1, 2, 3, 4, 5, or 6, so make sure that you can get all of these outcomes and none other. Print the list, one item to a line so that there are 10 lines as in the example run.  Make sure that it has 10 items and they are all in the range 1 through 6.  Here is one of my runs. In the problem below I ask you to set the seed to 171 for the benefit of the reproducibility. In this example, that wasn't done and so your numbers will be different.  Note that the seed must be set BEFORE randint is used.\n",
    "\n",
    "```  \n",
    "dice()\n",
    "4\n",
    "5\n",
    "3\n",
    "1\n",
    "4\n",
    "3\n",
    "5\n",
    "1\n",
    "6\n",
    "3\n"
   ]
  },
  {
   "cell_type": "code",
   "execution_count": null,
   "metadata": {},
   "outputs": [],
   "source": [
    "import random\n",
    "\n",
    "def randint():\n",
    "    \"\"\" Simulates rolling a die 10 times.\"\"\"\n",
    "    random.seed(171)  # don't remove when you submit for grading\n",
    "    for i in range(10):\n",
    "        print(random.randint(1,6))\n",
    "randint()"
   ]
  },
  {
   "cell_type": "markdown",
   "metadata": {},
   "source": [
    "## Exercise 18\n",
    "Heron's formula for computing the area of a triangle with sides a, b, and c is as follows. Let `s = .5(a + b + c)` --- that is, 1/2 of the perimeter of the triangle. Then the area is the square root of `s(s-a)(s-b)(s-c)`. You can compute the square root of x by `x**.5` (raise x to the 1/2 power). Use an input statement to get the length of the sides. Don't forget to convert this input to a real number using float(). Adjust your output to be just like what you see below. Here is a run of my program:\n",
    "\n",
    "```  \n",
    "heron()\n",
    "\n",
    "Enter length of side one: 9\n",
    "Enter length of side two: 12\n",
    "Enter length of side three: 15\n",
    "\n",
    "Area of a triangle with sides 9.0 12.0 15.0 is 54.0"
   ]
  },
  {
   "cell_type": "code",
   "execution_count": null,
   "metadata": {},
   "outputs": [],
   "source": [
    "def heron():\n",
    "    \"\"\" computes area of triangle using Heron's formula. \"\"\"\n",
    "    a = float(input(\"Enter length of side one:\"))\n",
    "    b = float(input(\"Enter length of side two:\"))\n",
    "    c = float(input(\"Enter length of side three:\"))\n",
    "    s = 0.5*(float(a + b + c))\n",
    "    area = float(((s*(s-a))*(s-b)*(s-c))**0.5)\n",
    "    \n",
    "    print(\"Area of a triangle with sides\",a,b,c,\"is\", area)\n",
    "\n",
    "heron()"
   ]
  },
  {
   "cell_type": "markdown",
   "metadata": {},
   "source": [
    "## Exercise 19\n",
    "The following list gives the hourly temperature during a 24 hour day. Write a function, that will take such a list and compute 3 things: average temperature, high (maximum temperature), and low (minimum temperature) for the day.  I will test with a different set of temperatures, so don't pick out the low or the high and code it into your program. This should work for other hourly_temp lists as well. This can be done by looping (iterating) through the list. I suggest you not write it all at once. You might write a function that computes just one of these, say average, then improve it to handle another, say maximum, etc. Sample run using the list hourly_temp. \n",
    "\n",
    "Note that the testing function will use a different hourly list.  Be sure that you function works on this list and test it on at least one other list of your own construction. Note also, that the list the grader uses may not have the same number of items as this one.\n",
    "\n",
    "\n",
    "hourly_temp  = [40.0, 39.0, 37.0, 34.0, 33.0, 34.0, 36.0, 37.0, 38.0, 39.0, \\\n",
    "               40.0, 41.0, 44.0, 45.0, 47.0, 48.0, 45.0, 42.0, 39.0, 37.0, \\\n",
    "               36.0, 35.0, 33.0, 32.0]\n",
    "\n",
    "\n",
    "```  \n",
    "weather(hourly_temp)\n",
    "Average: 38.791666666666664\n",
    "High: 48.0\n",
    "Low: 32.0\n"
   ]
  },
  {
   "cell_type": "code",
   "execution_count": null,
   "metadata": {},
   "outputs": [],
   "source": [
    "hourly_temp  = [40.0, 39.0, 37.0, 34.0, 33.0, 34.0, 36.0, 37.0, 38.0, 39.0, \\\n",
    "               40.0, 41.0, 44.0, 45.0, 47.0, 48.0, 45.0, 42.0, 39.0, 37.0, \\\n",
    "               36.0, 35.0, 33.0, 32.0]\n",
    "def weather(hourly_temp):\n",
    "    for i in hourly_temp:\n",
    "        av = sum(hourly_temp)/len(hourly_temp)\n",
    "    print(\"Average:\", av)\n",
    "    \n",
    "    for i in hourly_temp:\n",
    "        hi = max(hourly_temp)\n",
    "    print(\"High:\", hi)\n",
    "    \n",
    "    for i in hourly_temp:\n",
    "        lo = min(hourly_temp)\n",
    "    print(\"Low:\", lo)\n",
    "weather(hourly_temp)\n"
   ]
  },
  {
   "cell_type": "markdown",
   "metadata": {},
   "source": [
    "## Exercise 20\n",
    "Write a function that will convert a date from one format to another. Specifically, `06/10/2016` should convert to `June 17, 2016`.  Actually, you will input the 6, the 17, and the 2016 as separate integers (numbers) and the function will assemble and print the date as June 17, 2016.  I suggest that you create a tuple months = (\"January\", \"February\", \"March\", ...) to store the names of the months.  Then it is easy to access the name February as months[1] and so on.\n",
    "\n",
    "Here is printout of my run.\n",
    "\n",
    "```  \n",
    "calen(6,17,2016)\n",
    "June 17, 2016\n"
   ]
  },
  {
   "cell_type": "code",
   "execution_count": null,
   "metadata": {},
   "outputs": [],
   "source": [
    "import sys\n",
    "\n",
    "def date_conv(month, day, year):\n",
    "    \"\"\" Takes date of form mm/dd/yyyy and writes it in form June 17, 2016 \n",
    "        Example3_3: problem3_3(6, 17, 2016) gives June 17, 2016 \"\"\"\n",
    "    \n",
    "    tupl_date = (1,2,3,4,5,6,7,8,9,10,11,12,13,14,15,16,17,18,19,20,21,22,23,24,25,26,27,28,29,30,31)\n",
    "    tupl_months = (\"January\", \"February\", \"March\",\"April\",\"May\",\"June\",\"July\",\"August\",\"Septemeber\",\"October\",\"November\",\"December\")\n",
    "    print(tupl_months[month - 1],str(tupl_date[day - 1])+\",\",year)\n",
    "\n",
    "date_conv(6, 17, 2016)"
   ]
  },
  {
   "cell_type": "markdown",
   "metadata": {},
   "source": [
    "# Dictionaries, turples, sets"
   ]
  },
  {
   "cell_type": "markdown",
   "metadata": {},
   "source": [
    "## Exercise 21\n",
    "Write a function that is complementary to the one in the previous problem that will convert a date such as June 17, 2016 into the format 6/17/2016.  I suggest that you use a dictionary to convert from the name of the month to the number of the month. Then it is easy to look up the month number as months[\"February\"] and so on. Note that the month names should begin with capital letters. \n",
    " \n",
    "***Tip:***    \n",
    "In print statements, commas create a space.  So you may have difficulty avoiding a space between the 7, 17, and 2016 below and the following comma.  I suggest that you build the output as a single string containing the properly formatted date and then print that.  You can convert any number to string by using str() and tie the parts together using +. Duplicate the format of the example output exactly. \n",
    "\n",
    "Here is a printout of my run for June 17, 2016.\n",
    "\n",
    "```  \n",
    "date_conv_modified(\"July\",17, 2016)\n",
    "7/17/2016\n"
   ]
  },
  {
   "cell_type": "code",
   "execution_count": null,
   "metadata": {},
   "outputs": [],
   "source": [
    "def date_conv2(month,date,year):\n",
    "    \"\"\" Takes date such as July 17, 2016 and write it as 7/17/2016 \"\"\"\n",
    "    dic_month = {\"January\":'1', \"February\":'2', \"March\":'3',\"April\":'4',\"May\":'5',\"June\":'6',\"July\":'7',\n",
    "                 \"August\":'8',\"Septemeber\":'9',\"October\":'10',\"November\":'11',\"December\":'12'}\n",
    "    tupl_date = (1,2,3,4,5,6,7,8,9,10,11,12,13,14,15,16,17,18,19,20,21,22,23,24,25,26,27,28,29,30,31)\n",
    "    \n",
    "    print(str(dic_month[month])+\"/\"+str(tupl_date[date-1])+'/'+str(year))\n",
    "    \n",
    "date_conv2(\"July\",17, 2016)"
   ]
  },
  {
   "cell_type": "markdown",
   "metadata": {},
   "source": [
    "## Exercise 22\n",
    "Write a function temp_stat(temps) to compute the average, median, standard deviation and variance of the temperatures in the table.  Print each out.\n",
    "The following code generates the same temperatures each time because the seed is set to 150. Print the temperature list as the first line of the function.\n",
    "\n",
    "Here is what my run on the table of temperatures built below looks like:\n",
    "\n",
    "```  \n",
    "temp_stat(temperatures)\n",
    "[52, 61, 45, 50, 44, 34, 57, 80, 91, 50, 38, 91, 84, 20, 55, 23, 83, 42, 44, 84]\n",
    "Mean:  56.4\n",
    "Median:  51.0\n",
    "Standard deviation:  22.04397518836526\n",
    "Variance:  485.9368421052631\n",
    "\n",
    "```"
   ]
  },
  {
   "cell_type": "code",
   "execution_count": null,
   "metadata": {},
   "outputs": [],
   "source": [
    "# first genererate the random numbers\n",
    "import random\n",
    "random.seed(150)\n",
    "temperatures = []\n",
    "for i in range(0,20):                            # iteration steps upto 20 times\n",
    "    temperatures.append(random.randint(20,95))   # temperatures are between 20 - 95\n",
    "# print(temperatures)\n",
    "temps = temperatures\n",
    "def temp_stat(temps):\n",
    "    \"\"\" prints the average, median, std dev, and variance of temps \"\"\"\n",
    "    import statistics\n",
    "    print(temps)\n",
    "    print('Mean: ', statistics.mean(temps))\n",
    "    print('Median: ', statistics.median(temps))\n",
    "    print('Standard deviation: ', statistics.stdev(temps))\n",
    "    print('Variance ', statistics.variance(temps))\n",
    "\n",
    "temp_stat(temps)"
   ]
  },
  {
   "cell_type": "code",
   "execution_count": null,
   "metadata": {},
   "outputs": [],
   "source": [
    "## What if I asked you to add the Mode?\n",
    "import statistics\n",
    "try:\n",
    "        print('Mode: ', statistics.mode(temps))\n",
    "except statistics.StatisticsError as x:\n",
    "        print('Mode error:', x)"
   ]
  },
  {
   "cell_type": "markdown",
   "metadata": {},
   "source": [
    "# Reading, writing, and manipulation of text files (Empasis on csv files)"
   ]
  },
  {
   "cell_type": "markdown",
   "metadata": {},
   "source": [
    "## Exercise 23\n",
    "Write a function `write_to_file(filename,myname,myage,major)` that opens the file <filename> and writes 3 lines in it using the data given. Here is a sample of what could be in the file. Call the file 'namefile.txt', so that it is identifiable as a text file:\n",
    "\n",
    "```  \n",
    "My name is George  \n",
    "My age is 21   \n",
    "I am majoring in Physics\n",
    "\n",
    "```\n",
    "\n",
    "Tips: \n",
    "1. `write_to_file()` can take only a string and, in fact, only one. So whatever you write has to be put together into one string (using +, for example).\n",
    "2. Add `+\"\\n\"` on the end of each write to put a newline at the end of each line. Otherwise, everything will be jammed together on one line.\n",
    "3. Convert your age (a number) to a string -- use `str()` to do that. Then join it to the other parts of the string before writing.\n",
    "4. When running the function, use quotes around every argument except the number."
   ]
  },
  {
   "cell_type": "code",
   "execution_count": null,
   "metadata": {},
   "outputs": [],
   "source": [
    "def write_to_file(filename, myname, myage, major):\n",
    "    # open file first\n",
    "    for line in filename:\n",
    "        open(filename)\n",
    "        outfile.write(\"My name is \"+ myname + \" \\n\"\"My age is \"+ myage +\"\\n\"\"I am majoring in \"+ major, \"w\")\n",
    "    # write out the age and major in two lines\n",
    "    # close the file\n",
    "    infile.close()\n",
    "    outfile.close()"
   ]
  },
  {
   "cell_type": "markdown",
   "metadata": {},
   "source": [
    "## Exercise 24\n",
    "Write a function that would read a CSV file that looks like this, flowers.csv:\n",
    "\n",
    "```  \n",
    "petunia,5.95\n",
    "alyssum,3.95\n",
    "begonia,5.95\n",
    "sunflower,5.95\n",
    "coelius,4.95\n",
    "\n",
    "```\n",
    "and looks up the price of a flower and print out that price.  Remember to import the necessary library. Here is my run on the above CSV file:\n",
    "\n",
    "```  \n",
    "flower_price(\"flowers.csv\",\"alyssum\")\n",
    "3.95\n",
    "\n",
    "```"
   ]
  },
  {
   "cell_type": "code",
   "execution_count": null,
   "metadata": {},
   "outputs": [],
   "source": [
    "def flower_price(file,flower):\n",
    "    f = open(file,'r')\n",
    "    import csv\n",
    "    for row in csv.reader(f):\n",
    "        if flower in row[0] == 'alyssum':\n",
    "            print(row[1])\n",
    "        elif flower in row[0] == 'sunflower':\n",
    "            print(row[1])\n",
    "        elif flower in row[0] == 'petunia':\n",
    "            print(row[1])\n",
    "        elif flower in row[0] == 'begonia':\n",
    "            print(row[1])  \n",
    "        elif flower in row[0] == 'coelius':\n",
    "            print(row[1])    \n",
    "flower_price('../Data/flowers.csv', 'coelius')"
   ]
  },
  {
   "cell_type": "markdown",
   "metadata": {},
   "source": [
    "## Exercise 25\n",
    "Write a function that reads a text file and counts the number of characters in it.  Print both the text file and the number of characters. Do this so that the printout isn't doubled space (use an end=\"\"  argument in the print statement). Also, skip a line before printing the count. Note that it is easy to get the number of characters in each line using the len() function. Here is my run for HumptyDumpty.txt.  Let me point out one thing that is not visible here and is a bit technical.  At the end of each of the first three lines there is a `newline` character.  These are invisible.  If you do the count by eye, you are likely to come up short by these three characters, but they are visible to len() and you should count them -- they are part of the 141 \"letters\" in the humptydumpty.txt file.  Counting them makes this an easier function for you to write.\n",
    "\n",
    "\n",
    "```  \n",
    "read_cnts(\"/Data/humptydumpty.txt\")\n",
    "Humpty Dumpty sat on a wall,\n",
    "Humpty Dumpty had a great fall.\n",
    "All the king's horses and all the king's men\n",
    "Couldn't put Humpty together again.\n",
    "\n",
    "There are 141 letters in the file."
   ]
  },
  {
   "cell_type": "code",
   "execution_count": 43,
   "metadata": {},
   "outputs": [
    {
     "name": "stdout",
     "output_type": "stream",
     "text": [
      "Humpty Dumpty sat on a wall,\n",
      "Humpty Dumpty had a great fall.\n",
      "All the king's horses and all the king's men\n",
      "Couldn't put Humpty together again.\n",
      "\n",
      "There are 141 letters in the file.\n"
     ]
    }
   ],
   "source": [
    "import sys\n",
    "# infilename = sys.argv[1]\n",
    "\n",
    "def read_cnts(infilename):\n",
    "    with open(infilename, 'r') as txt:\n",
    "        for line in txt:\n",
    "            print(line, end=\"\")\n",
    "        print(\"\\n\")\n",
    "\n",
    "        with open(infilename, 'r') as txt:\n",
    "            letters = 0\n",
    "            words_dic = {}\n",
    "            for line in txt:\n",
    "                for word in line:\n",
    "                    letters+=(int(len(word)))\n",
    "                    if word not in words_dic:\n",
    "                        words_dic[word] = 0      \n",
    "                        words_dic[word] = words_dic[word] + 1 \n",
    "\n",
    "            print('There are %d letters in the file.' %(letters))\n",
    "read_cnts(\"../Data/HumptyDumpty.txt\")"
   ]
  },
  {
   "cell_type": "markdown",
   "metadata": {},
   "source": [
    "# Running stand-alone scripts or programs"
   ]
  },
  {
   "cell_type": "markdown",
   "metadata": {},
   "source": [
    "## Exercise 26\n",
    "\n",
    "Write a program (not just a function, but a stand alone program or script) that reads through a file and writes another file that gives the length of each line in the first file.  If line is the line that you've read into your program, use line.strip(\"\\n\") to strip away the invisible newline character at the end of each line.  Otherwise, your count will be one higher than the marking algorithm.  \n",
    "Here is a run of my solution program using the HumptyDumpty.txt file. The run is followed by a printout of `HumptyDumpty.txt` and the written file\n",
    "`HumptyLength.txt`. Note that your program does not print anything out.  It does write a text file though.\n",
    "\n",
    "`python writ_cnts.py humptydumpty.txt humptylength.txt`"
   ]
  },
  {
   "cell_type": "code",
   "execution_count": null,
   "metadata": {},
   "outputs": [],
   "source": [
    "# Function construct\n",
    "def read_write(filename, outfilename):\n",
    "    infile = open(filename) \n",
    "    outfile = open(outfilename,'w')\n",
    "    \n",
    "    for line in infile:\n",
    "        print(line, end=\"\")\n",
    "        print(outfile.write(line.strip(\"\\n\")))\n",
    "        \n",
    "    infile.close()\n",
    "    outfile.close()\n",
    "read_write('../Data/HumptyDumpty.txt', '../Data/HumptyLength.txt') \n",
    "\n",
    "    "
   ]
  },
  {
   "cell_type": "code",
   "execution_count": null,
   "metadata": {},
   "outputs": [],
   "source": [
    "# Script construct\n",
    "import sys\n",
    "infilename = sys.argv[1]\n",
    "outfilename = sys.argv[2]\n",
    "\n",
    "infile = open(infilename)\n",
    "outfile = open(outfilename,'w')\n",
    "\n",
    "for line in infile:\n",
    "    outfile.write(line)\n",
    "\n",
    "infile.close()\n",
    "outfile.close() "
   ]
  },
  {
   "cell_type": "markdown",
   "metadata": {},
   "source": [
    "## Exercise 27\n",
    "Write a program that will sort an alphabetic list (or list of words) into alphabetical order. Make it sort independently of whether the letters are \n",
    "capital or lowercase. First print out the wordlist, then sort and print out the sorted list. Here is my run on the list firstline below (note that the wrapping was added when I pasted it into the file -- this is really two lines in the output).\n",
    "\n",
    "```  \n",
    "['Happy', 'families', 'are', 'all', 'alike;', 'every', 'unhappy', 'family',\n",
    " 'is', 'unhappy', 'in', 'its', 'own', 'way.', 'Leo Tolstoy', 'Anna Karenina']\n",
    "['alike;', 'all', 'Anna Karenina', 'are', 'every', 'families', 'family',\n",
    "'Happy', 'in', 'is', 'its', 'Leo Tolstoy', 'own', 'unhappy', 'unhappy', 'way.']\n",
    "\n",
    "```"
   ]
  },
  {
   "cell_type": "code",
   "execution_count": null,
   "metadata": {},
   "outputs": [],
   "source": [
    "firstline = [\"Happy\", \"families\", \"are\", \"all\", \"alike;\", \"every\", \\\n",
    "              \"unhappy\", \"family\", \"is\", \"unhappy\", \"in\", \"its\", \"own\", \\\n",
    "              \"way.\", \"Leo Tolstoy\", \"Anna Karenina\"] \n",
    "\n",
    "wordlist = firstline\n",
    "\n",
    "def alphab(wordlist):\n",
    "    \"\"\" Takes a word list prints it, sorts it, and prints the sorted list \"\"\"\n",
    "    firstline = [\"Happy\", \"families\", \"are\", \"all\", \"alike;\", \"every\", \\\n",
    "              \"unhappy\", \"family\", \"is\", \"unhappy\", \"in\", \"its\", \"own\", \\\n",
    "              \"way.\", \"Leo Tolstoy\", \"Anna Karenina\"] \n",
    "    wordlist = firstline\n",
    "    # print(wordlist)\n",
    "    wordlist.sort(key=str.lower)\n",
    "    print(wordlist)\n",
    "    \n",
    "alphab(wordlist)"
   ]
  },
  {
   "cell_type": "markdown",
   "metadata": {},
   "source": [
    "## Exercise 28\n",
    "Write a function that can enter the productand its cost and it will print out nicely. Specifically, allow 25 characters for the product name and left-justify it in that space; allow 6 characters for the cost and right justify it in that space with 2 decimal places. Precede the cost with a dollar-sign.  There should be no other spaces in the output.\n",
    "\n",
    "Here is how one of my runs looks:\n",
    "```  \n",
    "toothbrush               $  2.60\n",
    "\n",
    "```"
   ]
  },
  {
   "cell_type": "code",
   "execution_count": null,
   "metadata": {},
   "outputs": [],
   "source": [
    "def product_cost(product, cost):\n",
    "    \"\"\" Prints the product name in a space of 25 characters, left-justified\n",
    "        and the price in a space of 6 characters, right-justified\"\"\"\n",
    "    out = \"{0:<25}${1:>6.2f}\" \n",
    "    print(out.format(product,cost))\n",
    "product_cost(\"toothbrush\",2.6)"
   ]
  }
 ],
 "metadata": {
  "interpreter": {
   "hash": "b3dd153e3a3150aebc097edfb99bf076d6755e104c9aed78edf53e6facf61d24"
  },
  "kernelspec": {
   "display_name": "Python 3.8.5 64-bit ('base': conda)",
   "name": "python3"
  },
  "language_info": {
   "codemirror_mode": {
    "name": "ipython",
    "version": 3
   },
   "file_extension": ".py",
   "mimetype": "text/x-python",
   "name": "python",
   "nbconvert_exporter": "python",
   "pygments_lexer": "ipython3",
   "version": "3.8.5"
  },
  "orig_nbformat": 4
 },
 "nbformat": 4,
 "nbformat_minor": 2
}
